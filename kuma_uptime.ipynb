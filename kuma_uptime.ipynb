{
 "cells": [
  {
   "cell_type": "markdown",
   "metadata": {},
   "source": [
    "# ETL Pipeline for Pterodactyl Minecraft Servers Analysis\n",
    "\n",
    "## Index\n",
    "\n",
    "- Install requierements\n",
    "- Import libraries and setup key variables\n",
    "- Get the Uptime Kuma information\n",
    "- Load data into the Postgres database"
   ]
  },
  {
   "cell_type": "markdown",
   "metadata": {},
   "source": [
    "## Install requierements"
   ]
  },
  {
   "cell_type": "code",
   "execution_count": null,
   "metadata": {},
   "outputs": [],
   "source": [
    "!pip install -r requirements.txt\n",
    "!pip install uptime-kuma-api"
   ]
  },
  {
   "cell_type": "markdown",
   "metadata": {},
   "source": [
    "## Import libraries and setup key variables\n",
    "Remember to add you own credentials in the .env file for them to be loaded here"
   ]
  },
  {
   "cell_type": "code",
   "execution_count": 1,
   "metadata": {},
   "outputs": [
    {
     "data": {
      "text/plain": [
       "{}"
      ]
     },
     "execution_count": 1,
     "metadata": {},
     "output_type": "execute_result"
    }
   ],
   "source": [
    "import os\n",
    "from sqlalchemy import create_engine, text\n",
    "from dotenv import load_dotenv\n",
    "import pandas as pd\n",
    "from datetime import datetime, timedelta\n",
    "from uptime_kuma_api import UptimeKumaApi, MonitorType\n",
    "\n",
    "# Load .env file credentials\n",
    "load_dotenv()\n",
    "\n",
    "# Database connection\n",
    "host = os.getenv('POSTGRES_HOST')\n",
    "port = os.getenv('POSTGRES_PORT')\n",
    "dbname = os.getenv('POSTGRES_DBNAME')\n",
    "user = os.getenv('POSTGRES_USER')\n",
    "password = os.getenv('POSTGRES_PASSWORD')\n",
    "connection = f'postgresql://{user}:{password}@{host}:{port}/{dbname}'\n",
    "\n",
    "# Kuma connection\n",
    "kuma_token = os.getenv('TOKEN')\n",
    "kuma_url = os.getenv('KUMA_URL')\n",
    "kuma_user = os.getenv('KUMA_USER')\n",
    "kuma_pass = os.getenv('KUMA_PASS')\n",
    "\n",
    "# Connect to Kuma\n",
    "api = UptimeKumaApi('https://kuma.stiv.tech')\n",
    "#api.login(kuma_user, kuma_pass)\n",
    "api.login_by_token(kuma_token)"
   ]
  },
  {
   "cell_type": "markdown",
   "metadata": {},
   "source": [
    "## Get the Uptime Kuma information\n",
    "Average ping, uptime from 24 hours and 30 days"
   ]
  },
  {
   "cell_type": "code",
   "execution_count": 2,
   "metadata": {},
   "outputs": [
    {
     "data": {
      "text/html": [
       "<div>\n",
       "<style scoped>\n",
       "    .dataframe tbody tr th:only-of-type {\n",
       "        vertical-align: middle;\n",
       "    }\n",
       "\n",
       "    .dataframe tbody tr th {\n",
       "        vertical-align: top;\n",
       "    }\n",
       "\n",
       "    .dataframe thead th {\n",
       "        text-align: right;\n",
       "    }\n",
       "</style>\n",
       "<table border=\"1\" class=\"dataframe\">\n",
       "  <thead>\n",
       "    <tr style=\"text-align: right;\">\n",
       "      <th></th>\n",
       "      <th>server_name</th>\n",
       "      <th>avg_ping</th>\n",
       "      <th>uptime_24hours</th>\n",
       "      <th>creation_time</th>\n",
       "    </tr>\n",
       "  </thead>\n",
       "  <tbody>\n",
       "    <tr>\n",
       "      <th>0</th>\n",
       "      <td>Kugatsu</td>\n",
       "      <td>12.0</td>\n",
       "      <td>1</td>\n",
       "      <td>2023-11-13 19:12:22</td>\n",
       "    </tr>\n",
       "    <tr>\n",
       "      <th>1</th>\n",
       "      <td>El delincuente de los mods</td>\n",
       "      <td>0</td>\n",
       "      <td>0</td>\n",
       "      <td>2023-11-13 19:12:22</td>\n",
       "    </tr>\n",
       "    <tr>\n",
       "      <th>2</th>\n",
       "      <td>Silver Server</td>\n",
       "      <td>0</td>\n",
       "      <td>0</td>\n",
       "      <td>2023-11-13 19:12:22</td>\n",
       "    </tr>\n",
       "    <tr>\n",
       "      <th>3</th>\n",
       "      <td>Legend</td>\n",
       "      <td>11.0</td>\n",
       "      <td>1</td>\n",
       "      <td>2023-11-13 19:12:22</td>\n",
       "    </tr>\n",
       "    <tr>\n",
       "      <th>4</th>\n",
       "      <td>WyntërThrougmënt-Truod</td>\n",
       "      <td>0</td>\n",
       "      <td>0</td>\n",
       "      <td>2023-11-13 19:12:22</td>\n",
       "    </tr>\n",
       "    <tr>\n",
       "      <th>5</th>\n",
       "      <td>Minecraft4Free</td>\n",
       "      <td>11.0</td>\n",
       "      <td>1</td>\n",
       "      <td>2023-11-13 19:12:22</td>\n",
       "    </tr>\n",
       "  </tbody>\n",
       "</table>\n",
       "</div>"
      ],
      "text/plain": [
       "                  server_name avg_ping  uptime_24hours        creation_time\n",
       "0                     Kugatsu     12.0               1  2023-11-13 19:12:22\n",
       "1  El delincuente de los mods        0               0  2023-11-13 19:12:22\n",
       "2               Silver Server        0               0  2023-11-13 19:12:22\n",
       "3                      Legend     11.0               1  2023-11-13 19:12:22\n",
       "4      WyntërThrougmënt-Truod        0               0  2023-11-13 19:12:22\n",
       "5              Minecraft4Free     11.0               1  2023-11-13 19:12:22"
      ]
     },
     "execution_count": 2,
     "metadata": {},
     "output_type": "execute_result"
    }
   ],
   "source": [
    "# Get the ping result\n",
    "ping_result = api.avg_ping()\n",
    "\n",
    "# Get the uptime result\n",
    "uptime_result = api.uptime()\n",
    "\n",
    "# Mapping the server names by extract the id and server names from monitors in kuma and put them into a dictionary\n",
    "# (this is because the avg ping and uptime only give us the id and the info, not the server name)\n",
    "monitors = api.get_monitors()\n",
    "monitor_dict = {}\n",
    "for monitor in monitors:\n",
    "    monitor_id = monitor.get(\"id\")\n",
    "    monitor_name = monitor.get(\"name\")\n",
    "    monitor_dict[monitor_id] = monitor_name\n",
    "\n",
    "# Replace server numbers with names in the result\n",
    "ping_result_with_names = {monitor_dict[key]: value for key, value in ping_result.items()}\n",
    "uptime_result_with_names = {monitor_dict[key]: value for key, value in uptime_result.items()}\n",
    "\n",
    "# Convert ping and uptime to DataFrames\n",
    "ping_df = pd.DataFrame(list(ping_result_with_names.items()), columns=['server_name', 'avg_ping'])\n",
    "uptime_df = pd.DataFrame(list(uptime_result_with_names.items()), columns=['server_name', 'Uptime'])\n",
    "\n",
    "# Transform the NaN ping values to 0\n",
    "ping_df = ping_df.fillna('0')\n",
    "\n",
    "# Split the 'Uptime' column into '24 Hours' and '30 Days' columns\n",
    "uptime_df[['uptime_24hours', 'uptime_30days']] = pd.DataFrame(uptime_df['Uptime'].tolist(), index=uptime_df.index)\n",
    "# Drop the original 'Uptime' column and the '30 days column'\n",
    "uptime_df = uptime_df.drop(columns=['Uptime', 'uptime_30days'])\n",
    "\n",
    "# Multiply the percentage columns by 100\n",
    "#uptime_df['uptime_24hours'] *= 100\n",
    "#uptime_df['uptime_30days'] *= 100\n",
    "\n",
    "# Merge the DataFrames and add the 'creation_time' column\n",
    "final_df = pd.merge(ping_df, uptime_df, on='server_name', how='inner')\n",
    "final_df['creation_time'] = datetime.now().strftime('%Y-%m-%d %H:%M:%S')\n",
    "final_df"
   ]
  },
  {
   "cell_type": "markdown",
   "metadata": {},
   "source": [
    "## Load data into the Postgres database\n",
    "Into kuma table"
   ]
  },
  {
   "cell_type": "code",
   "execution_count": null,
   "metadata": {},
   "outputs": [],
   "source": [
    "# Connect to database and upload all new logs into table\n",
    "SCHEMA = 'pterodactyl'\n",
    "engine = create_engine(connection)\n",
    "with engine.connect() as conn:\n",
    "\n",
    "# Start a new transaction\n",
    "    trans = conn.begin()\n",
    "\n",
    "    try:\n",
    "        # Load all new activity into postgres\n",
    "        final_df.to_sql(name = 'kuma', schema = SCHEMA, con = conn, if_exists='append', index=False)\n",
    "        # Commit the transaction\n",
    "        trans.commit()\n",
    "\n",
    "    except Exception as e:\n",
    "        # Rollback the transaction on exception\n",
    "        print('!!! [ERROR IN DATABASE QUERIES] !!!')\n",
    "        trans.rollback()\n",
    "        print('Transaction has been rolled back')\n",
    "        print(f'Error occurred during transaction:\\n{e}')\n",
    "        raise"
   ]
  }
 ],
 "metadata": {
  "kernelspec": {
   "display_name": "Python 3",
   "language": "python",
   "name": "python3"
  },
  "language_info": {
   "codemirror_mode": {
    "name": "ipython",
    "version": 3
   },
   "file_extension": ".py",
   "mimetype": "text/x-python",
   "name": "python",
   "nbconvert_exporter": "python",
   "pygments_lexer": "ipython3",
   "version": "3.11.4"
  },
  "orig_nbformat": 4
 },
 "nbformat": 4,
 "nbformat_minor": 2
}
